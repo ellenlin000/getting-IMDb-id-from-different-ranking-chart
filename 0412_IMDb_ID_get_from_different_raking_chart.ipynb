{
 "cells": [
  {
   "cell_type": "code",
   "execution_count": 1,
   "metadata": {},
   "outputs": [
    {
     "name": "stdout",
     "output_type": "stream",
     "text": [
      "URL OK\n",
      "100\n"
     ]
    }
   ],
   "source": [
    "# -*- coding: utf-8 -*-\n",
    "import requests\n",
    "from bs4 import BeautifulSoup\n",
    "import csv\n",
    "import pandas as pd\n",
    "\n",
    "HTML_PARSER   = \"html.parser\"\n",
    "ROOT_URL      = 'https:'\n",
    "USER_AGENT    = 'Mozilla/5.0 (Windows NT 10.0; Win64; x64) AppleWebKit/537.36 (KHTML, like Gecko) Chrome/59.0.3071.115 Safari/537.36'\n",
    "HEADERS       = {'User-Agent':USER_AGENT}\n",
    "MOVIE_URL     = 'https://www.imdb.com/chart/bottom?pf_rd_m=A2FGELUUNOQJNL&pf_rd_p=4da9d9a5-d299-43f2-9c53-f0efa18182cd&pf_rd_r=9P55RN0JBTPY4RBRG7XR&pf_rd_s=right-4&pf_rd_t=15506&pf_rd_i=top&ref_=chttp_ql_8'\n",
    "\n",
    "def Title():\n",
    "\tli_data_titleid = []\n",
    "\tli_movie_name   = []\n",
    "\tli_dir_and_wri  = []\n",
    "\tli_movie_years  = []\n",
    "\tmovie_req = requests.get(MOVIE_URL, headers = HEADERS)\n",
    "\tif movie_req.status_code == requests.codes.ok:\n",
    "\t\tprint('URL OK')\n",
    "\t\tsoup = BeautifulSoup(movie_req.content, HTML_PARSER)\n",
    "\t\tdata_titleid_number = len(soup.find_all('div', attrs={'class': 'seen-widget'}))\n",
    "\t\tprint(data_titleid_number)\n",
    "\t\tfor i in range(0,data_titleid_number):\n",
    "\t\t\t#title\n",
    "\t\t\tdata_titleid = soup.select('div.seen-widget')[i].get('data-titleid')\n",
    "\t\t\t#movie name\n",
    "\t\t\tmovie_name = soup.select('td.titleColumn > a')[i].text\n",
    "\t\t\t#Director and Writers\n",
    "\t\t\tdir_and_wri = soup.select('td.titleColumn > a')[i].get('title')\n",
    "\t\t\t#years\n",
    "\t\t\tmovie_years = soup.select('span.secondaryInfo')[i].text\n",
    "\t\t\t#print(data_titleid)\n",
    "\t\t\t#print(movie_name)\n",
    "\t\t\t#print(dir_and_wri)\n",
    "\t\t\t#print(movie_years)\n",
    "\t\t\tli_data_titleid.append(data_titleid)\n",
    "\t\t\tli_movie_name.append(movie_name)\n",
    "\t\t\tli_dir_and_wri.append(dir_and_wri)\n",
    "\t\t\tli_movie_years.append(movie_years)\n",
    "\t\t\tdataframe = pd.DataFrame({'data_titleid':li_data_titleid,'movie_name':li_movie_name,'dir_and_wri':li_dir_and_wri,'movie_years':li_movie_years})\n",
    "\t\t\tdataframe.to_csv(\"movie_data.csv\",index=False,sep=',')\n",
    "\n",
    "if __name__ == '__main__':\n",
    "\tTitle()"
   ]
  },
  {
   "cell_type": "code",
   "execution_count": null,
   "metadata": {
    "collapsed": true
   },
   "outputs": [],
   "source": []
  }
 ],
 "metadata": {
  "kernelspec": {
   "display_name": "Python 3",
   "language": "python",
   "name": "python3"
  },
  "language_info": {
   "codemirror_mode": {
    "name": "ipython",
    "version": 3
   },
   "file_extension": ".py",
   "mimetype": "text/x-python",
   "name": "python",
   "nbconvert_exporter": "python",
   "pygments_lexer": "ipython3",
   "version": "3.6.1"
  }
 },
 "nbformat": 4,
 "nbformat_minor": 2
}
